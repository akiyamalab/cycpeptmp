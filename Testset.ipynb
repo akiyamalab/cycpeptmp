{
 "cells": [
  {
   "cell_type": "code",
   "execution_count": 2,
   "metadata": {},
   "outputs": [
    {
     "name": "stdout",
     "output_type": "stream",
     "text": [
      "Optuna version: 3.2.0\n",
      "Torch version: 2.0.0\n",
      "Device: cpu\n"
     ]
    }
   ],
   "source": [
    "%matplotlib inline\n",
    "%config InlineBackend.figure_formats={'png','retina'}\n",
    "import numpy as np\n",
    "np.set_printoptions(precision=2, suppress=True)\n",
    "import pandas as pd\n",
    "import time\n",
    "import csv\n",
    "\"\"\"\"\"\"\n",
    "import optuna\n",
    "import torch\n",
    "import torch.nn as nn\n",
    "# from torchinfo import summary\n",
    "\"\"\"\"\"\"\n",
    "from model import fusion_model\n",
    "from model import schedular\n",
    "\"\"\"\"\"\"\n",
    "DEVICE = torch.device(\"cuda\" if torch.cuda.is_available() else \"cpu\")\n",
    "print(f'Optuna version: {optuna.__version__}')\n",
    "print(f'Torch version: {torch.__version__}')\n",
    "print(f'Device: {DEVICE}')"
   ]
  },
  {
   "cell_type": "markdown",
   "metadata": {},
   "source": [
    "## CycPeptMP"
   ]
  },
  {
   "cell_type": "code",
   "execution_count": null,
   "metadata": {},
   "outputs": [],
   "source": [
    "MODEL_TYPE = 'Fusion'\n",
    "REPLICA_NUM = 60\n",
    "USE_AUXILIARY = True\n",
    "\n",
    "# Scaling permeabilities\n",
    "LOWER_LIMIT = -8\n",
    "UPPER_LIMIT = -4\n",
    "\n",
    "seed = 2024\n",
    "training_utils.set_seed(seed)\n",
    "\n",
    "gamma_layer  = 0.05\n",
    "gamma_subout = 0.10\n",
    "\n",
    "study_history = pd.read_csv(f'weight/{MODEL_TYPE}_optuna/study_history_{MODEL_TYPE}.csv').iloc[:,1:]\n",
    "study_history = study_history[study_history['state'] == 'COMPLETE'].reset_index(drop=True)\n",
    "# OPTIMIZE\n",
    "best_trial_number = 140\n",
    "best_trial = study_history[study_history['number'] == best_trial_number].iloc[0]\n",
    "# print(best_trial)"
   ]
  }
 ],
 "metadata": {
  "kernelspec": {
   "display_name": "Python 3",
   "language": "python",
   "name": "python3"
  },
  "language_info": {
   "codemirror_mode": {
    "name": "ipython",
    "version": 3
   },
   "file_extension": ".py",
   "mimetype": "text/x-python",
   "name": "python",
   "nbconvert_exporter": "python",
   "pygments_lexer": "ipython3",
   "version": "3.9.6"
  }
 },
 "nbformat": 4,
 "nbformat_minor": 2
}
