{
 "cells": [
  {
   "cell_type": "code",
   "execution_count": 58,
   "metadata": {},
   "outputs": [
    {
     "name": "stdout",
     "output_type": "stream",
     "text": [
      "Torch version: 2.0.0\n",
      "Device: cpu\n"
     ]
    }
   ],
   "source": [
    "import json\n",
    "import os\n",
    "import pandas as pd\n",
    "import numpy as np\n",
    "from rdkit import Chem\n",
    "\n",
    "from utils import utils_function\n",
    "from utils import calculate_descriptors\n",
    "from utils import generate_conformation\n",
    "from utils import generate_atom_input\n",
    "from utils import generate_monomer_input\n",
    "from utils import generate_peptide_input\n",
    "\n",
    "import torch\n",
    "import torch.nn as nn\n",
    "from model import model_utils\n",
    "DEVICE = torch.device(\"cuda\" if torch.cuda.is_available() else \"cpu\")\n",
    "print(f'Torch version: {torch.__version__}')\n",
    "print(f'Device: {DEVICE}')"
   ]
  },
  {
   "cell_type": "code",
   "execution_count": 33,
   "metadata": {},
   "outputs": [],
   "source": [
    "config_path = 'config/CycPeptMP.json'\n",
    "config = json.load(open(config_path,'r'))"
   ]
  },
  {
   "cell_type": "code",
   "execution_count": 3,
   "metadata": {},
   "outputs": [],
   "source": [
    "# Example cyclic peptide drugs, without experimentally determined permeability.\n",
    "# Anidulafungin, Pasireotide\n",
    "new_data = pd.read_csv('data/new_data/new_data.csv')\n",
    "\n",
    "# Check duplicates\n",
    "old_data = pd.read_csv('data/CycPeptMPDB_Peptide_All.csv', low_memory=False)\n",
    "for i in range(len(new_data)):\n",
    "    if utils_function.canonicalize_smiles(new_data.iloc[i]['SMILES']) in old_data['SMILES'].to_list():\n",
    "        print(f'Your peptide: {i} ({new_data.iloc[i][\"ID_org\"]}) is already in the database.')"
   ]
  },
  {
   "cell_type": "markdown",
   "metadata": {},
   "source": [
    "### 0. Divide peptide into monomers (substructures)\n",
    "+ Divides __peptide bond__ and __ester bond__ in the __main chain__ and splits peptide into monomers.\n",
    "+ The cleaved amide group or O atom of the amide-to-ester substitution was methylated (addition of CH3), and the carboxyl group was converted to an aldehyde (addition of H).\n",
    "+ __Disulfide bond__ is not included in CycPeptMPDB data, but it may be better to consider it as a division target.\n",
    "+ __Bonds in side-chain__ are not subject to division to fully represent the side-chain properties."
   ]
  },
  {
   "cell_type": "code",
   "execution_count": null,
   "metadata": {},
   "outputs": [],
   "source": []
  },
  {
   "cell_type": "code",
   "execution_count": null,
   "metadata": {},
   "outputs": [],
   "source": [
    "# Save unique monomers\n",
    "utils_function.get_unique_monomer(new_data, 'data/new_data/unique_monomer.csv')"
   ]
  },
  {
   "cell_type": "markdown",
   "metadata": {},
   "source": [
    "### 1. Generate different peptide SMILES representations by SMILES enumeration as atom-level data augmentation"
   ]
  },
  {
   "cell_type": "code",
   "execution_count": 40,
   "metadata": {},
   "outputs": [
    {
     "name": "stderr",
     "output_type": "stream",
     "text": [
      "100%|██████████| 2/2 [00:00<00:00, 10.60it/s]\n"
     ]
    }
   ],
   "source": [
    "utils_function.enumerate_smiles(new_data, config, 'data/new_data/enum_smiles.csv')"
   ]
  },
  {
   "cell_type": "markdown",
   "metadata": {},
   "source": [
    "### 2. Generate 3D conformations for peptide and monomer"
   ]
  },
  {
   "cell_type": "markdown",
   "metadata": {},
   "source": [
    "+ Peptide"
   ]
  },
  {
   "cell_type": "code",
   "execution_count": 52,
   "metadata": {},
   "outputs": [
    {
     "name": "stderr",
     "output_type": "stream",
     "text": [
      "  0%|          | 0/120 [00:00<?, ?it/s]"
     ]
    },
    {
     "name": "stderr",
     "output_type": "stream",
     "text": [
      "100%|██████████| 120/120 [03:25<00:00,  1.71s/it]\n"
     ]
    }
   ],
   "source": [
    "os.mkdir('sdf/new_data/')\n",
    "\n",
    "df_enu = pd.read_csv('data/new_data/enum_smiles.csv')\n",
    "\n",
    "# WARNING: If there is too much data, you can manually split it into multiple files for parallel computation.\n",
    "# For example:\n",
    "# sub_file_num = 10\n",
    "# sub_file_len = len(df_enu) // sub_file_num\n",
    "# for i in range(sub_file_num):\n",
    "#     df_enu.iloc[i*sub_file_len:(i+1)*sub_file_len].to_csv(f'sdf/new_data/peptide_{i}.csv', index=False)\n",
    "\n",
    "generate_conformation.generate_peptide_conformation(config, df_enu, 'sdf/new_data/peptide.sdf')"
   ]
  },
  {
   "cell_type": "markdown",
   "metadata": {},
   "source": [
    "+ Monomer"
   ]
  },
  {
   "cell_type": "code",
   "execution_count": 9,
   "metadata": {},
   "outputs": [
    {
     "name": "stderr",
     "output_type": "stream",
     "text": [
      "100%|██████████| 11/11 [00:36<00:00,  3.34s/it]\n"
     ]
    }
   ],
   "source": [
    "df_monomer = pd.read_csv('data/new_data/unique_monomer.csv')\n",
    "generate_conformation.generate_monomer_conformation(config, df_monomer, 'sdf/new_data/monomer.sdf')"
   ]
  },
  {
   "cell_type": "markdown",
   "metadata": {},
   "source": [
    "### 3. Calculate 2D and 3D descriptors for peptide and monomer"
   ]
  },
  {
   "cell_type": "markdown",
   "metadata": {},
   "source": [
    "#### 3.1. RDKit (208 types 2D descriptors)"
   ]
  },
  {
   "cell_type": "code",
   "execution_count": 133,
   "metadata": {},
   "outputs": [
    {
     "name": "stderr",
     "output_type": "stream",
     "text": [
      "100%|██████████| 2/2 [00:00<00:00,  6.33it/s]\n"
     ]
    }
   ],
   "source": [
    "# peptide\n",
    "calculate_descriptors.calc_rdkit_descriptors(new_data['SMILES'].tolist(), 'desc/new_data/peptide_rdkit.csv')"
   ]
  },
  {
   "cell_type": "code",
   "execution_count": 136,
   "metadata": {},
   "outputs": [
    {
     "name": "stderr",
     "output_type": "stream",
     "text": [
      "100%|██████████| 11/11 [00:00<00:00, 37.17it/s]\n"
     ]
    }
   ],
   "source": [
    "# monomer\n",
    "calculate_descriptors.calc_rdkit_descriptors(df_monomer['SMILES'].tolist(), 'desc/new_data/monomer_rdkit.csv')"
   ]
  },
  {
   "cell_type": "markdown",
   "metadata": {},
   "source": [
    "#### 3.2. Mordred (1275 types 2D descriptors + 51 types 3D descriptors)"
   ]
  },
  {
   "cell_type": "markdown",
   "metadata": {},
   "source": [
    "+ 2D"
   ]
  },
  {
   "cell_type": "code",
   "execution_count": 138,
   "metadata": {},
   "outputs": [
    {
     "name": "stderr",
     "output_type": "stream",
     "text": [
      "100%|██████████| 2/2 [00:01<00:00,  1.05it/s]\n"
     ]
    }
   ],
   "source": [
    "# peptide\n",
    "calculate_descriptors.calc_mordred_2Ddescriptors(new_data['SMILES'].tolist(), 'desc/new_data/peptide_mordred_2D.csv')"
   ]
  },
  {
   "cell_type": "code",
   "execution_count": 139,
   "metadata": {},
   "outputs": [
    {
     "name": "stderr",
     "output_type": "stream",
     "text": [
      "100%|██████████| 11/11 [00:01<00:00,  8.81it/s]\n"
     ]
    }
   ],
   "source": [
    "# monomer\n",
    "calculate_descriptors.calc_mordred_2Ddescriptors(df_monomer['SMILES'].tolist(), 'desc/new_data/monomer_mordred_2D.csv')"
   ]
  },
  {
   "cell_type": "markdown",
   "metadata": {},
   "source": [
    "+ 3D"
   ]
  },
  {
   "cell_type": "code",
   "execution_count": 142,
   "metadata": {},
   "outputs": [
    {
     "name": "stderr",
     "output_type": "stream",
     "text": [
      "100%|██████████| 120/120 [00:32<00:00,  3.70it/s]\n"
     ]
    }
   ],
   "source": [
    "# peptide\n",
    "mols = Chem.SDMolSupplier('sdf/new_data/peptide.sdf')\n",
    "calculate_descriptors.calc_mordred_3Ddescriptors(mols, 'desc/new_data/peptide_mordred_3D.csv')"
   ]
  },
  {
   "cell_type": "code",
   "execution_count": 143,
   "metadata": {},
   "outputs": [
    {
     "name": "stderr",
     "output_type": "stream",
     "text": [
      "100%|██████████| 660/660 [00:32<00:00, 20.02it/s] \n"
     ]
    }
   ],
   "source": [
    "# monomer\n",
    "mols = Chem.SDMolSupplier('sdf/new_data/monomer.sdf')\n",
    "calculate_descriptors.calc_mordred_3Ddescriptors(mols, 'desc/new_data/monomer_mordred_3D.csv')"
   ]
  },
  {
   "cell_type": "markdown",
   "metadata": {},
   "source": [
    "#### 3.3. MOE (206 types 2D descriptors + 117 types 3D descriptors)\n",
    "+ CycPeptMP used the commercial software __MOE__ to calculate some of the descriptors.\n",
    "+ In particular, many of the selected 3D descriptors were computed by MOE.\n",
    "+ Please manualy calculate these descriptors. I showed __utils/MOE_3D_descriptors.sh__ as an example.\n",
    "+ For 2D descriptors:\n",
    "    + Please wash SMILES and use washed mols for calculation.\n",
    "        + for GUI: Molecule -> Wash -> Protonation: Dominant\n",
    "+ For 3D descriptors:\n",
    "    + First, please calculate the charge for the RDKit conformations.\n",
    "        + for GUI: Compute -> Molecule -> Partial Charges\n",
    "    + 21 MOPAC descriptors of the 3D descriptors were not computed due to computational cost (AM_x, MNDO_, PM3_x)"
   ]
  },
  {
   "cell_type": "markdown",
   "metadata": {},
   "source": [
    "#### 3.4. Concatenation files"
   ]
  },
  {
   "cell_type": "code",
   "execution_count": 118,
   "metadata": {},
   "outputs": [],
   "source": [
    "calculate_descriptors.merge_descriptors(config, 'desc/new_data/', 'data/new_data/')"
   ]
  },
  {
   "cell_type": "markdown",
   "metadata": {},
   "source": [
    "### 4. Generate input for three sub-models"
   ]
  },
  {
   "cell_type": "code",
   "execution_count": 9,
   "metadata": {},
   "outputs": [],
   "source": [
    "folder_path = 'model/input/new_data/'\n",
    "set_name = 'new'"
   ]
  },
  {
   "cell_type": "markdown",
   "metadata": {},
   "source": [
    "+ Atom model"
   ]
  },
  {
   "cell_type": "code",
   "execution_count": 51,
   "metadata": {},
   "outputs": [
    {
     "name": "stderr",
     "output_type": "stream",
     "text": [
      "100%|██████████| 120/120 [00:00<00:00, 701.12it/s]\n",
      "100%|██████████| 120/120 [00:00<00:00, 311.35it/s]\n",
      "100%|██████████| 120/120 [00:00<00:00, 476.95it/s]\n",
      "100%|██████████| 120/120 [00:00<00:00, 448.57it/s]\n",
      "100%|██████████| 120/120 [00:00<00:00, 646.59it/s]\n"
     ]
    }
   ],
   "source": [
    "df_enu = pd.read_csv('data/new_data/enum_smiles.csv')\n",
    "mols = Chem.SDMolSupplier('sdf/new_data/peptide.sdf')\n",
    "\n",
    "generate_atom_input.generate_atom_input(config, new_data, df_enu, mols, folder_path, set_name)"
   ]
  },
  {
   "cell_type": "markdown",
   "metadata": {},
   "source": [
    "+ Monomer model"
   ]
  },
  {
   "cell_type": "code",
   "execution_count": 4,
   "metadata": {},
   "outputs": [],
   "source": [
    "df_mono_2D = pd.read_csv('desc/new_data/monomer_2D.csv')\n",
    "df_mono_3D = pd.read_csv('desc/new_data/monomer_3D.csv')\n",
    "\n",
    "generate_monomer_input.generate_monomer_input(config, new_data, df_mono_2D, df_mono_3D, folder_path, set_name)"
   ]
  },
  {
   "cell_type": "markdown",
   "metadata": {},
   "source": [
    "+ Peptide model"
   ]
  },
  {
   "cell_type": "code",
   "execution_count": 53,
   "metadata": {},
   "outputs": [
    {
     "name": "stderr",
     "output_type": "stream",
     "text": [
      "100%|██████████| 2/2 [00:00<00:00, 890.51it/s]\n",
      "100%|██████████| 2/2 [00:00<00:00, 756.75it/s]\n"
     ]
    }
   ],
   "source": [
    "df_pep_2D = pd.read_csv('desc/new_data/peptide_2D.csv')\n",
    "df_pep_3D = pd.read_csv('desc/new_data/peptide_3D.csv')\n",
    "df_enu = pd.read_csv('data/new_data/enum_smiles.csv')\n",
    "\n",
    "generate_peptide_input.generate_peptide_input(config, new_data, df_enu, df_pep_2D, df_pep_3D, folder_path, set_name)"
   ]
  },
  {
   "cell_type": "markdown",
   "metadata": {},
   "source": [
    "### 5. Prediction"
   ]
  },
  {
   "cell_type": "code",
   "execution_count": 56,
   "metadata": {},
   "outputs": [],
   "source": [
    "MODEL_TYPE = 'Fusion'\n",
    "# OPTIMIZE: Augmentation times\n",
    "REPLICA_NUM = 60\n",
    "\n",
    "# Set random seed for reproducibility\n",
    "seed = config['data']['seed']\n",
    "model_utils.set_seed(seed)\n",
    "\n",
    "# Import input\n",
    "dataset_new = model_utils.load_dataset('model/input/new_data/', MODEL_TYPE, REPLICA_NUM, 'new')\n",
    "\n",
    "# Determined hyperparameters\n",
    "best_trial = config['model']"
   ]
  },
  {
   "cell_type": "code",
   "execution_count": 61,
   "metadata": {},
   "outputs": [
    {
     "ename": "RuntimeError",
     "evalue": "Error(s) in loading state_dict for FusionModel:\n\tMissing key(s) in state_dict: \"atom_model.embedding_atoms.weight\", \"atom_model.embedding_atoms.bias\", \"atom_model.embedding_graph.weight\", \"atom_model.embedding_graph.bias\", \"atom_model.embedding_conf.weight\", \"atom_model.embedding_conf.bias\", \"atom_model.embedding_bond.weight\", \"atom_model.embedding_bond.bias\", \"atom_model.transformer_encoder_graph.encoder_graph_0.self_attn.in_proj_weight\", \"atom_model.transformer_encoder_graph.encoder_graph_0.self_attn.in_proj_bias\", \"atom_model.transformer_encoder_graph.encoder_graph_0.self_attn.out_proj.weight\", \"atom_model.transformer_encoder_graph.encoder_graph_0.self_attn.out_proj.bias\", \"atom_model.transformer_encoder_graph.encoder_graph_0.linear1.weight\", \"atom_model.transformer_encoder_graph.encoder_graph_0.linear1.bias\", \"atom_model.transformer_encoder_graph.encoder_graph_0.linear2.weight\", \"atom_model.transformer_encoder_graph.encoder_graph_0.linear2.bias\", \"atom_model.transformer_encoder_graph.encoder_graph_0.norm1.weight\", \"atom_model.transformer_encoder_graph.encoder_graph_0.norm1.bias\", \"atom_model.transformer_encoder_graph.encoder_graph_0.norm2.weight\", \"atom_model.transformer_encoder_graph.encoder_graph_0.norm2.bias\", \"atom_model.transformer_encoder_graph.encoder_graph_1.self_attn.in_proj_weight\", \"atom_model.transformer_encoder_graph.encoder_graph_1.self_attn.in_proj_bias\", \"atom_model.transformer_encoder_graph.encoder_graph_1.self_attn.out_proj.weight\", \"atom_model.transformer_encoder_graph.encoder_graph_1.self_attn.out_proj.bias\", \"atom_model.transformer_encoder_graph.encoder_graph_1.linear1.weight\", \"atom_model.transformer_encoder_graph.encoder_graph_1.linear1.bias\", \"atom_model.transformer_encoder_graph.encoder_graph_1.linear2.weight\", \"atom_model.transformer_encoder_graph.encoder_graph_1.linear2.bias\", \"atom_model.transformer_encoder_graph.encoder_graph_1.norm1.weight\", \"atom_model.transformer_encoder_graph.encoder_graph_1.norm1.bias\", \"atom_model.transformer_encoder_graph.encoder_graph_1.norm2.weight\", \"atom_model.transformer_encoder_graph.encoder_graph_1.norm2.bias\", \"atom_model.transformer_encoder_conf.encoder_conf_0.self_attn.in_proj_weight\", \"atom_model.transformer_encoder_conf.encoder_conf_0.self_attn.in_proj_bias\", \"atom_model.transformer_encoder_conf.encoder_conf_0.self_attn.out_proj.weight\", \"atom_model.transformer_encoder_conf.encoder_conf_0.self_attn.out_proj.bias\", \"atom_model.transformer_encoder_conf.encoder_conf_0.linear1.weight\", \"atom_model.transformer_encoder_conf.encoder_conf_0.linear1.bias\", \"atom_model.transformer_encoder_conf.encoder_conf_0.linear2.weight\", \"atom_model.transformer_encoder_conf.encoder_conf_0.linear2.bias\", \"atom_model.transformer_encoder_conf.encoder_conf_0.norm1.weight\", \"atom_model.transformer_encoder_conf.encoder_conf_0.norm1.bias\", \"atom_model.transformer_encoder_conf.encoder_conf_0.norm2.weight\", \"atom_model.transformer_encoder_conf.encoder_conf_0.norm2.bias\", \"atom_model.transformer_encoder_conf.encoder_conf_1.self_attn.in_proj_weight\", \"atom_model.transformer_encoder_conf.encoder_conf_1.self_attn.in_proj_bias\", \"atom_model.transformer_encoder_conf.encoder_conf_1.self_attn.out_proj.weight\", \"atom_model.transformer_encoder_conf.encoder_conf_1.self_attn.out_proj.bias\", \"atom_model.transformer_encoder_conf.encoder_conf_1.linear1.weight\", \"atom_model.transformer_encoder_conf.encoder_conf_1.linear1.bias\", \"atom_model.transformer_encoder_conf.encoder_conf_1.linear2.weight\", \"atom_model.transformer_encoder_conf.encoder_conf_1.linear2.bias\", \"atom_model.transformer_encoder_conf.encoder_conf_1.norm1.weight\", \"atom_model.transformer_encoder_conf.encoder_conf_1.norm1.bias\", \"atom_model.transformer_encoder_conf.encoder_conf_1.norm2.weight\", \"atom_model.transformer_encoder_conf.encoder_conf_1.norm2.bias\", \"atom_model.auxiliary_concat_layers.auxiliary_concat_0.weight\", \"atom_model.auxiliary_concat_layers.auxiliary_concat_0.bias\", \"atom_model.auxiliary_concat_layers.auxiliary_concat_1.weight\", \"atom_model.auxiliary_concat_layers.auxiliary_concat_1.bias\", \"atom_model.auxiliary_out_layers.auxiliary_out_0.weight\", \"atom_model.auxiliary_out_layers.auxiliary_out_0.bias\", \"atom_model.auxiliary_out_layers.auxiliary_out_1.weight\", \"atom_model.auxiliary_out_layers.auxiliary_out_1.bias\", \"atom_model.linear_layers.linear_concat.weight\", \"atom_model.linear_layers.linear_concat.bias\", \"atom_model.linear_layers.linear_0.weight\", \"atom_model.linear_layers.linear_0.bias\", \"atom_model.linear_layers.linear_out.weight\", \"atom_model.linear_layers.linear_out.bias\", \"monomer_model.conv_layers.conv1d_0.weight\", \"monomer_model.conv_layers.conv1d_0.bias\", \"monomer_model.conv_layers.bn_conv_0.weight\", \"monomer_model.conv_layers.bn_conv_0.bias\", \"monomer_model.conv_layers.bn_conv_0.running_mean\", \"monomer_model.conv_layers.bn_conv_0.running_var\", \"monomer_model.conv_layers.conv1d_1.weight\", \"monomer_model.conv_layers.conv1d_1.bias\", \"monomer_model.conv_layers.bn_conv_1.weight\", \"monomer_model.conv_layers.bn_conv_1.bias\", \"monomer_model.conv_layers.bn_conv_1.running_mean\", \"monomer_model.conv_layers.bn_conv_1.running_var\", \"monomer_model.conv_layers.conv1d_2.weight\", \"monomer_model.conv_layers.conv1d_2.bias\", \"monomer_model.conv_layers.bn_conv_2.weight\", \"monomer_model.conv_layers.bn_conv_2.bias\", \"monomer_model.conv_layers.bn_conv_2.running_mean\", \"monomer_model.conv_layers.bn_conv_2.running_var\", \"monomer_model.conv_layers.conv1d_3.weight\", \"monomer_model.conv_layers.conv1d_3.bias\", \"monomer_model.conv_layers.bn_conv_3.weight\", \"monomer_model.conv_layers.bn_conv_3.bias\", \"monomer_model.conv_layers.bn_conv_3.running_mean\", \"monomer_model.conv_layers.bn_conv_3.running_var\", \"monomer_model.conv_layers.conv1d_4.weight\", \"monomer_model.conv_layers.conv1d_4.bias\", \"monomer_model.conv_layers.bn_conv_4.weight\", \"monomer_model.conv_layers.bn_conv_4.bias\", \"monomer_model.conv_layers.bn_conv_4.running_mean\", \"monomer_model.conv_layers.bn_conv_4.running_var\", \"monomer_model.conv_layers.conv1d_5.weight\", \"monomer_model.conv_layers.conv1d_5.bias\", \"monomer_model.conv_layers.bn_conv_5.weight\", \"monomer_model.conv_layers.bn_conv_5.bias\", \"monomer_model.conv_layers.bn_conv_5.running_mean\", \"monomer_model.conv_layers.bn_conv_5.running_var\", \"monomer_model.auxiliary_layers.auxiliary_0.weight\", \"monomer_model.auxiliary_layers.auxiliary_0.bias\", \"monomer_model.auxiliary_layers.auxiliary_1.weight\", \"monomer_model.auxiliary_layers.auxiliary_1.bias\", \"monomer_model.auxiliary_layers.auxiliary_2.weight\", \"monomer_model.auxiliary_layers.auxiliary_2.bias\", \"monomer_model.auxiliary_layers.auxiliary_3.weight\", \"monomer_model.auxiliary_layers.auxiliary_3.bias\", \"monomer_model.auxiliary_layers.auxiliary_4.weight\", \"monomer_model.auxiliary_layers.auxiliary_4.bias\", \"monomer_model.auxiliary_layers.auxiliary_5.weight\", \"monomer_model.auxiliary_layers.auxiliary_5.bias\", \"monomer_model.auxiliary_out_layers.auxiliary_out_0.weight\", \"monomer_model.auxiliary_out_layers.auxiliary_out_0.bias\", \"monomer_model.auxiliary_out_layers.auxiliary_out_1.weight\", \"monomer_model.auxiliary_out_layers.auxiliary_out_1.bias\", \"monomer_model.auxiliary_out_layers.auxiliary_out_2.weight\", \"monomer_model.auxiliary_out_layers.auxiliary_out_2.bias\", \"monomer_model.auxiliary_out_layers.auxiliary_out_3.weight\", \"monomer_model.auxiliary_out_layers.auxiliary_out_3.bias\", \"monomer_model.auxiliary_out_layers.auxiliary_out_4.weight\", \"monomer_model.auxiliary_out_layers.auxiliary_out_4.bias\", \"monomer_model.auxiliary_out_layers.auxiliary_out_5.weight\", \"monomer_model.auxiliary_out_layers.auxiliary_out_5.bias\", \"monomer_model.linear_layers.convlinear_0.weight\", \"monomer_model.linear_layers.convlinear_0.bias\", \"monomer_model.linear_layers.bn_convlinear_0.weight\", \"monomer_model.linear_layers.bn_convlinear_0.bias\", \"monomer_model.linear_layers.bn_convlinear_0.running_mean\", \"monomer_model.linear_layers.bn_convlinear_0.running_var\", \"monomer_model.linear_layers.out_conv.weight\", \"monomer_model.linear_layers.out_conv.bias\", \"peptide_model.desc_layers.mlp_desc_0.weight\", \"peptide_model.desc_layers.mlp_desc_0.bias\", \"peptide_model.fp_layers.mlp_fp_0.weight\", \"peptide_model.fp_layers.mlp_fp_0.bias\", \"peptide_model.auxiliary_concat_layers.auxiliary_concat_0.weight\", \"peptide_model.auxiliary_concat_layers.auxiliary_concat_0.bias\", \"peptide_model.auxiliary_out_layers.auxiliary_out_0.weight\", \"peptide_model.auxiliary_out_layers.auxiliary_out_0.bias\", \"peptide_model.linear_layers.linear_concat.weight\", \"peptide_model.linear_layers.linear_concat.bias\", \"peptide_model.linear_layers.out_mlp.weight\", \"peptide_model.linear_layers.out_mlp.bias\". \n\tUnexpected key(s) in state_dict: \"atoms_model.embedding_atoms.weight\", \"atoms_model.embedding_atoms.bias\", \"atoms_model.embedding_graph.weight\", \"atoms_model.embedding_graph.bias\", \"atoms_model.embedding_conf.weight\", \"atoms_model.embedding_conf.bias\", \"atoms_model.embedding_bond.weight\", \"atoms_model.embedding_bond.bias\", \"atoms_model.transformer_encoder_graph.encoder_graph_0.self_attn.in_proj_weight\", \"atoms_model.transformer_encoder_graph.encoder_graph_0.self_attn.in_proj_bias\", \"atoms_model.transformer_encoder_graph.encoder_graph_0.self_attn.out_proj.weight\", \"atoms_model.transformer_encoder_graph.encoder_graph_0.self_attn.out_proj.bias\", \"atoms_model.transformer_encoder_graph.encoder_graph_0.linear1.weight\", \"atoms_model.transformer_encoder_graph.encoder_graph_0.linear1.bias\", \"atoms_model.transformer_encoder_graph.encoder_graph_0.linear2.weight\", \"atoms_model.transformer_encoder_graph.encoder_graph_0.linear2.bias\", \"atoms_model.transformer_encoder_graph.encoder_graph_0.norm1.weight\", \"atoms_model.transformer_encoder_graph.encoder_graph_0.norm1.bias\", \"atoms_model.transformer_encoder_graph.encoder_graph_0.norm2.weight\", \"atoms_model.transformer_encoder_graph.encoder_graph_0.norm2.bias\", \"atoms_model.transformer_encoder_graph.encoder_graph_1.self_attn.in_proj_weight\", \"atoms_model.transformer_encoder_graph.encoder_graph_1.self_attn.in_proj_bias\", \"atoms_model.transformer_encoder_graph.encoder_graph_1.self_attn.out_proj.weight\", \"atoms_model.transformer_encoder_graph.encoder_graph_1.self_attn.out_proj.bias\", \"atoms_model.transformer_encoder_graph.encoder_graph_1.linear1.weight\", \"atoms_model.transformer_encoder_graph.encoder_graph_1.linear1.bias\", \"atoms_model.transformer_encoder_graph.encoder_graph_1.linear2.weight\", \"atoms_model.transformer_encoder_graph.encoder_graph_1.linear2.bias\", \"atoms_model.transformer_encoder_graph.encoder_graph_1.norm1.weight\", \"atoms_model.transformer_encoder_graph.encoder_graph_1.norm1.bias\", \"atoms_model.transformer_encoder_graph.encoder_graph_1.norm2.weight\", \"atoms_model.transformer_encoder_graph.encoder_graph_1.norm2.bias\", \"atoms_model.transformer_encoder_conf.encoder_conf_0.self_attn.in_proj_weight\", \"atoms_model.transformer_encoder_conf.encoder_conf_0.self_attn.in_proj_bias\", \"atoms_model.transformer_encoder_conf.encoder_conf_0.self_attn.out_proj.weight\", \"atoms_model.transformer_encoder_conf.encoder_conf_0.self_attn.out_proj.bias\", \"atoms_model.transformer_encoder_conf.encoder_conf_0.linear1.weight\", \"atoms_model.transformer_encoder_conf.encoder_conf_0.linear1.bias\", \"atoms_model.transformer_encoder_conf.encoder_conf_0.linear2.weight\", \"atoms_model.transformer_encoder_conf.encoder_conf_0.linear2.bias\", \"atoms_model.transformer_encoder_conf.encoder_conf_0.norm1.weight\", \"atoms_model.transformer_encoder_conf.encoder_conf_0.norm1.bias\", \"atoms_model.transformer_encoder_conf.encoder_conf_0.norm2.weight\", \"atoms_model.transformer_encoder_conf.encoder_conf_0.norm2.bias\", \"atoms_model.transformer_encoder_conf.encoder_conf_1.self_attn.in_proj_weight\", \"atoms_model.transformer_encoder_conf.encoder_conf_1.self_attn.in_proj_bias\", \"atoms_model.transformer_encoder_conf.encoder_conf_1.self_attn.out_proj.weight\", \"atoms_model.transformer_encoder_conf.encoder_conf_1.self_attn.out_proj.bias\", \"atoms_model.transformer_encoder_conf.encoder_conf_1.linear1.weight\", \"atoms_model.transformer_encoder_conf.encoder_conf_1.linear1.bias\", \"atoms_model.transformer_encoder_conf.encoder_conf_1.linear2.weight\", \"atoms_model.transformer_encoder_conf.encoder_conf_1.linear2.bias\", \"atoms_model.transformer_encoder_conf.encoder_conf_1.norm1.weight\", \"atoms_model.transformer_encoder_conf.encoder_conf_1.norm1.bias\", \"atoms_model.transformer_encoder_conf.encoder_conf_1.norm2.weight\", \"atoms_model.transformer_encoder_conf.encoder_conf_1.norm2.bias\", \"atoms_model.auxiliary_concat_layers.auxiliary_concat_0.weight\", \"atoms_model.auxiliary_concat_layers.auxiliary_concat_0.bias\", \"atoms_model.auxiliary_concat_layers.auxiliary_concat_1.weight\", \"atoms_model.auxiliary_concat_layers.auxiliary_concat_1.bias\", \"atoms_model.auxiliary_out_layers.auxiliary_out_0.weight\", \"atoms_model.auxiliary_out_layers.auxiliary_out_0.bias\", \"atoms_model.auxiliary_out_layers.auxiliary_out_1.weight\", \"atoms_model.auxiliary_out_layers.auxiliary_out_1.bias\", \"atoms_model.linear_layers.linear_concat.weight\", \"atoms_model.linear_layers.linear_concat.bias\", \"atoms_model.linear_layers.linear_0.weight\", \"atoms_model.linear_layers.linear_0.bias\", \"atoms_model.linear_layers.linear_out.weight\", \"atoms_model.linear_layers.linear_out.bias\", \"monomers_model.conv_layers.conv1d_0.weight\", \"monomers_model.conv_layers.conv1d_0.bias\", \"monomers_model.conv_layers.bn_conv_0.weight\", \"monomers_model.conv_layers.bn_conv_0.bias\", \"monomers_model.conv_layers.bn_conv_0.running_mean\", \"monomers_model.conv_layers.bn_conv_0.running_var\", \"monomers_model.conv_layers.bn_conv_0.num_batches_tracked\", \"monomers_model.conv_layers.conv1d_1.weight\", \"monomers_model.conv_layers.conv1d_1.bias\", \"monomers_model.conv_layers.bn_conv_1.weight\", \"monomers_model.conv_layers.bn_conv_1.bias\", \"monomers_model.conv_layers.bn_conv_1.running_mean\", \"monomers_model.conv_layers.bn_conv_1.running_var\", \"monomers_model.conv_layers.bn_conv_1.num_batches_tracked\", \"monomers_model.conv_layers.conv1d_2.weight\", \"monomers_model.conv_layers.conv1d_2.bias\", \"monomers_model.conv_layers.bn_conv_2.weight\", \"monomers_model.conv_layers.bn_conv_2.bias\", \"monomers_model.conv_layers.bn_conv_2.running_mean\", \"monomers_model.conv_layers.bn_conv_2.running_var\", \"monomers_model.conv_layers.bn_conv_2.num_batches_tracked\", \"monomers_model.conv_layers.conv1d_3.weight\", \"monomers_model.conv_layers.conv1d_3.bias\", \"monomers_model.conv_layers.bn_conv_3.weight\", \"monomers_model.conv_layers.bn_conv_3.bias\", \"monomers_model.conv_layers.bn_conv_3.running_mean\", \"monomers_model.conv_layers.bn_conv_3.running_var\", \"monomers_model.conv_layers.bn_conv_3.num_batches_tracked\", \"monomers_model.conv_layers.conv1d_4.weight\", \"monomers_model.conv_layers.conv1d_4.bias\", \"monomers_model.conv_layers.bn_conv_4.weight\", \"monomers_model.conv_layers.bn_conv_4.bias\", \"monomers_model.conv_layers.bn_conv_4.running_mean\", \"monomers_model.conv_layers.bn_conv_4.running_var\", \"monomers_model.conv_layers.bn_conv_4.num_batches_tracked\", \"monomers_model.conv_layers.conv1d_5.weight\", \"monomers_model.conv_layers.conv1d_5.bias\", \"monomers_model.conv_layers.bn_conv_5.weight\", \"monomers_model.conv_layers.bn_conv_5.bias\", \"monomers_model.conv_layers.bn_conv_5.running_mean\", \"monomers_model.conv_layers.bn_conv_5.running_var\", \"monomers_model.conv_layers.bn_conv_5.num_batches_tracked\", \"monomers_model.auxiliary_layers.auxiliary_0.weight\", \"monomers_model.auxiliary_layers.auxiliary_0.bias\", \"monomers_model.auxiliary_layers.auxiliary_1.weight\", \"monomers_model.auxiliary_layers.auxiliary_1.bias\", \"monomers_model.auxiliary_layers.auxiliary_2.weight\", \"monomers_model.auxiliary_layers.auxiliary_2.bias\", \"monomers_model.auxiliary_layers.auxiliary_3.weight\", \"monomers_model.auxiliary_layers.auxiliary_3.bias\", \"monomers_model.auxiliary_layers.auxiliary_4.weight\", \"monomers_model.auxiliary_layers.auxiliary_4.bias\", \"monomers_model.auxiliary_layers.auxiliary_5.weight\", \"monomers_model.auxiliary_layers.auxiliary_5.bias\", \"monomers_model.auxiliary_out_layers.auxiliary_out_0.weight\", \"monomers_model.auxiliary_out_layers.auxiliary_out_0.bias\", \"monomers_model.auxiliary_out_layers.auxiliary_out_1.weight\", \"monomers_model.auxiliary_out_layers.auxiliary_out_1.bias\", \"monomers_model.auxiliary_out_layers.auxiliary_out_2.weight\", \"monomers_model.auxiliary_out_layers.auxiliary_out_2.bias\", \"monomers_model.auxiliary_out_layers.auxiliary_out_3.weight\", \"monomers_model.auxiliary_out_layers.auxiliary_out_3.bias\", \"monomers_model.auxiliary_out_layers.auxiliary_out_4.weight\", \"monomers_model.auxiliary_out_layers.auxiliary_out_4.bias\", \"monomers_model.auxiliary_out_layers.auxiliary_out_5.weight\", \"monomers_model.auxiliary_out_layers.auxiliary_out_5.bias\", \"monomers_model.linear_layers.convlinear_0.weight\", \"monomers_model.linear_layers.convlinear_0.bias\", \"monomers_model.linear_layers.bn_convlinear_0.weight\", \"monomers_model.linear_layers.bn_convlinear_0.bias\", \"monomers_model.linear_layers.bn_convlinear_0.running_mean\", \"monomers_model.linear_layers.bn_convlinear_0.running_var\", \"monomers_model.linear_layers.bn_convlinear_0.num_batches_tracked\", \"monomers_model.linear_layers.out_conv.weight\", \"monomers_model.linear_layers.out_conv.bias\", \"peptides_model.desc_layers.mlp_desc_0.weight\", \"peptides_model.desc_layers.mlp_desc_0.bias\", \"peptides_model.fp_layers.mlp_fp_0.weight\", \"peptides_model.fp_layers.mlp_fp_0.bias\", \"peptides_model.auxiliary_concat_layers.auxiliary_concat_0.weight\", \"peptides_model.auxiliary_concat_layers.auxiliary_concat_0.bias\", \"peptides_model.auxiliary_out_layers.auxiliary_out_0.weight\", \"peptides_model.auxiliary_out_layers.auxiliary_out_0.bias\", \"peptides_model.linear_layers.linear_concat.weight\", \"peptides_model.linear_layers.linear_concat.bias\", \"peptides_model.linear_layers.out_mlp.weight\", \"peptides_model.linear_layers.out_mlp.bias\". ",
     "output_type": "error",
     "traceback": [
      "\u001b[0;31m---------------------------------------------------------------------------\u001b[0m",
      "\u001b[0;31mRuntimeError\u001b[0m                              Traceback (most recent call last)",
      "Cell \u001b[0;32mIn[61], line 7\u001b[0m\n\u001b[1;32m      5\u001b[0m model \u001b[38;5;241m=\u001b[39m model_utils\u001b[38;5;241m.\u001b[39mcreate_model(best_trial, DEVICE, config[\u001b[38;5;124m'\u001b[39m\u001b[38;5;124mmodel\u001b[39m\u001b[38;5;124m'\u001b[39m][\u001b[38;5;124m'\u001b[39m\u001b[38;5;124muse_auxiliary\u001b[39m\u001b[38;5;124m'\u001b[39m])\n\u001b[1;32m      6\u001b[0m model_state \u001b[38;5;241m=\u001b[39m checkpoint[\u001b[38;5;124m'\u001b[39m\u001b[38;5;124mmodel_state_dict\u001b[39m\u001b[38;5;124m'\u001b[39m]\n\u001b[0;32m----> 7\u001b[0m \u001b[43mmodel\u001b[49m\u001b[38;5;241;43m.\u001b[39;49m\u001b[43mload_state_dict\u001b[49m\u001b[43m(\u001b[49m\u001b[43mmodel_state\u001b[49m\u001b[43m)\u001b[49m\n\u001b[1;32m      8\u001b[0m model \u001b[38;5;241m=\u001b[39m nn\u001b[38;5;241m.\u001b[39mDataParallel(model)\n\u001b[1;32m      9\u001b[0m model\u001b[38;5;241m.\u001b[39mto(DEVICE)\n",
      "File \u001b[0;32m~/Library/Python/3.9/lib/python/site-packages/torch/nn/modules/module.py:2041\u001b[0m, in \u001b[0;36mModule.load_state_dict\u001b[0;34m(self, state_dict, strict)\u001b[0m\n\u001b[1;32m   2036\u001b[0m         error_msgs\u001b[38;5;241m.\u001b[39minsert(\n\u001b[1;32m   2037\u001b[0m             \u001b[38;5;241m0\u001b[39m, \u001b[38;5;124m'\u001b[39m\u001b[38;5;124mMissing key(s) in state_dict: \u001b[39m\u001b[38;5;132;01m{}\u001b[39;00m\u001b[38;5;124m. \u001b[39m\u001b[38;5;124m'\u001b[39m\u001b[38;5;241m.\u001b[39mformat(\n\u001b[1;32m   2038\u001b[0m                 \u001b[38;5;124m'\u001b[39m\u001b[38;5;124m, \u001b[39m\u001b[38;5;124m'\u001b[39m\u001b[38;5;241m.\u001b[39mjoin(\u001b[38;5;124m'\u001b[39m\u001b[38;5;124m\"\u001b[39m\u001b[38;5;132;01m{}\u001b[39;00m\u001b[38;5;124m\"\u001b[39m\u001b[38;5;124m'\u001b[39m\u001b[38;5;241m.\u001b[39mformat(k) \u001b[38;5;28;01mfor\u001b[39;00m k \u001b[38;5;129;01min\u001b[39;00m missing_keys)))\n\u001b[1;32m   2040\u001b[0m \u001b[38;5;28;01mif\u001b[39;00m \u001b[38;5;28mlen\u001b[39m(error_msgs) \u001b[38;5;241m>\u001b[39m \u001b[38;5;241m0\u001b[39m:\n\u001b[0;32m-> 2041\u001b[0m     \u001b[38;5;28;01mraise\u001b[39;00m \u001b[38;5;167;01mRuntimeError\u001b[39;00m(\u001b[38;5;124m'\u001b[39m\u001b[38;5;124mError(s) in loading state_dict for \u001b[39m\u001b[38;5;132;01m{}\u001b[39;00m\u001b[38;5;124m:\u001b[39m\u001b[38;5;130;01m\\n\u001b[39;00m\u001b[38;5;130;01m\\t\u001b[39;00m\u001b[38;5;132;01m{}\u001b[39;00m\u001b[38;5;124m'\u001b[39m\u001b[38;5;241m.\u001b[39mformat(\n\u001b[1;32m   2042\u001b[0m                        \u001b[38;5;28mself\u001b[39m\u001b[38;5;241m.\u001b[39m\u001b[38;5;18m__class__\u001b[39m\u001b[38;5;241m.\u001b[39m\u001b[38;5;18m__name__\u001b[39m, \u001b[38;5;124m\"\u001b[39m\u001b[38;5;130;01m\\n\u001b[39;00m\u001b[38;5;130;01m\\t\u001b[39;00m\u001b[38;5;124m\"\u001b[39m\u001b[38;5;241m.\u001b[39mjoin(error_msgs)))\n\u001b[1;32m   2043\u001b[0m \u001b[38;5;28;01mreturn\u001b[39;00m _IncompatibleKeys(missing_keys, unexpected_keys)\n",
      "\u001b[0;31mRuntimeError\u001b[0m: Error(s) in loading state_dict for FusionModel:\n\tMissing key(s) in state_dict: \"atom_model.embedding_atoms.weight\", \"atom_model.embedding_atoms.bias\", \"atom_model.embedding_graph.weight\", \"atom_model.embedding_graph.bias\", \"atom_model.embedding_conf.weight\", \"atom_model.embedding_conf.bias\", \"atom_model.embedding_bond.weight\", \"atom_model.embedding_bond.bias\", \"atom_model.transformer_encoder_graph.encoder_graph_0.self_attn.in_proj_weight\", \"atom_model.transformer_encoder_graph.encoder_graph_0.self_attn.in_proj_bias\", \"atom_model.transformer_encoder_graph.encoder_graph_0.self_attn.out_proj.weight\", \"atom_model.transformer_encoder_graph.encoder_graph_0.self_attn.out_proj.bias\", \"atom_model.transformer_encoder_graph.encoder_graph_0.linear1.weight\", \"atom_model.transformer_encoder_graph.encoder_graph_0.linear1.bias\", \"atom_model.transformer_encoder_graph.encoder_graph_0.linear2.weight\", \"atom_model.transformer_encoder_graph.encoder_graph_0.linear2.bias\", \"atom_model.transformer_encoder_graph.encoder_graph_0.norm1.weight\", \"atom_model.transformer_encoder_graph.encoder_graph_0.norm1.bias\", \"atom_model.transformer_encoder_graph.encoder_graph_0.norm2.weight\", \"atom_model.transformer_encoder_graph.encoder_graph_0.norm2.bias\", \"atom_model.transformer_encoder_graph.encoder_graph_1.self_attn.in_proj_weight\", \"atom_model.transformer_encoder_graph.encoder_graph_1.self_attn.in_proj_bias\", \"atom_model.transformer_encoder_graph.encoder_graph_1.self_attn.out_proj.weight\", \"atom_model.transformer_encoder_graph.encoder_graph_1.self_attn.out_proj.bias\", \"atom_model.transformer_encoder_graph.encoder_graph_1.linear1.weight\", \"atom_model.transformer_encoder_graph.encoder_graph_1.linear1.bias\", \"atom_model.transformer_encoder_graph.encoder_graph_1.linear2.weight\", \"atom_model.transformer_encoder_graph.encoder_graph_1.linear2.bias\", \"atom_model.transformer_encoder_graph.encoder_graph_1.norm1.weight\", \"atom_model.transformer_encoder_graph.encoder_graph_1.norm1.bias\", \"atom_model.transformer_encoder_graph.encoder_graph_1.norm2.weight\", \"atom_model.transformer_encoder_graph.encoder_graph_1.norm2.bias\", \"atom_model.transformer_encoder_conf.encoder_conf_0.self_attn.in_proj_weight\", \"atom_model.transformer_encoder_conf.encoder_conf_0.self_attn.in_proj_bias\", \"atom_model.transformer_encoder_conf.encoder_conf_0.self_attn.out_proj.weight\", \"atom_model.transformer_encoder_conf.encoder_conf_0.self_attn.out_proj.bias\", \"atom_model.transformer_encoder_conf.encoder_conf_0.linear1.weight\", \"atom_model.transformer_encoder_conf.encoder_conf_0.linear1.bias\", \"atom_model.transformer_encoder_conf.encoder_conf_0.linear2.weight\", \"atom_model.transformer_encoder_conf.encoder_conf_0.linear2.bias\", \"atom_model.transformer_encoder_conf.encoder_conf_0.norm1.weight\", \"atom_model.transformer_encoder_conf.encoder_conf_0.norm1.bias\", \"atom_model.transformer_encoder_conf.encoder_conf_0.norm2.weight\", \"atom_model.transformer_encoder_conf.encoder_conf_0.norm2.bias\", \"atom_model.transformer_encoder_conf.encoder_conf_1.self_attn.in_proj_weight\", \"atom_model.transformer_encoder_conf.encoder_conf_1.self_attn.in_proj_bias\", \"atom_model.transformer_encoder_conf.encoder_conf_1.self_attn.out_proj.weight\", \"atom_model.transformer_encoder_conf.encoder_conf_1.self_attn.out_proj.bias\", \"atom_model.transformer_encoder_conf.encoder_conf_1.linear1.weight\", \"atom_model.transformer_encoder_conf.encoder_conf_1.linear1.bias\", \"atom_model.transformer_encoder_conf.encoder_conf_1.linear2.weight\", \"atom_model.transformer_encoder_conf.encoder_conf_1.linear2.bias\", \"atom_model.transformer_encoder_conf.encoder_conf_1.norm1.weight\", \"atom_model.transformer_encoder_conf.encoder_conf_1.norm1.bias\", \"atom_model.transformer_encoder_conf.encoder_conf_1.norm2.weight\", \"atom_model.transformer_encoder_conf.encoder_conf_1.norm2.bias\", \"atom_model.auxiliary_concat_layers.auxiliary_concat_0.weight\", \"atom_model.auxiliary_concat_layers.auxiliary_concat_0.bias\", \"atom_model.auxiliary_concat_layers.auxiliary_concat_1.weight\", \"atom_model.auxiliary_concat_layers.auxiliary_concat_1.bias\", \"atom_model.auxiliary_out_layers.auxiliary_out_0.weight\", \"atom_model.auxiliary_out_layers.auxiliary_out_0.bias\", \"atom_model.auxiliary_out_layers.auxiliary_out_1.weight\", \"atom_model.auxiliary_out_layers.auxiliary_out_1.bias\", \"atom_model.linear_layers.linear_concat.weight\", \"atom_model.linear_layers.linear_concat.bias\", \"atom_model.linear_layers.linear_0.weight\", \"atom_model.linear_layers.linear_0.bias\", \"atom_model.linear_layers.linear_out.weight\", \"atom_model.linear_layers.linear_out.bias\", \"monomer_model.conv_layers.conv1d_0.weight\", \"monomer_model.conv_layers.conv1d_0.bias\", \"monomer_model.conv_layers.bn_conv_0.weight\", \"monomer_model.conv_layers.bn_conv_0.bias\", \"monomer_model.conv_layers.bn_conv_0.running_mean\", \"monomer_model.conv_layers.bn_conv_0.running_var\", \"monomer_model.conv_layers.conv1d_1.weight\", \"monomer_model.conv_layers.conv1d_1.bias\", \"monomer_model.conv_layers.bn_conv_1.weight\", \"monomer_model.conv_layers.bn_conv_1.bias\", \"monomer_model.conv_layers.bn_conv_1.running_mean\", \"monomer_model.conv_layers.bn_conv_1.running_var\", \"monomer_model.conv_layers.conv1d_2.weight\", \"monomer_model.conv_layers.conv1d_2.bias\", \"monomer_model.conv_layers.bn_conv_2.weight\", \"monomer_model.conv_layers.bn_conv_2.bias\", \"monomer_model.conv_layers.bn_conv_2.running_mean\", \"monomer_model.conv_layers.bn_conv_2.running_var\", \"monomer_model.conv_layers.conv1d_3.weight\", \"monomer_model.conv_layers.conv1d_3.bias\", \"monomer_model.conv_layers.bn_conv_3.weight\", \"monomer_model.conv_layers.bn_conv_3.bias\", \"monomer_model.conv_layers.bn_conv_3.running_mean\", \"monomer_model.conv_layers.bn_conv_3.running_var\", \"monomer_model.conv_layers.conv1d_4.weight\", \"monomer_model.conv_layers.conv1d_4.bias\", \"monomer_model.conv_layers.bn_conv_4.weight\", \"monomer_model.conv_layers.bn_conv_4.bias\", \"monomer_model.conv_layers.bn_conv_4.running_mean\", \"monomer_model.conv_layers.bn_conv_4.running_var\", \"monomer_model.conv_layers.conv1d_5.weight\", \"monomer_model.conv_layers.conv1d_5.bias\", \"monomer_model.conv_layers.bn_conv_5.weight\", \"monomer_model.conv_layers.bn_conv_5.bias\", \"monomer_model.conv_layers.bn_conv_5.running_mean\", \"monomer_model.conv_layers.bn_conv_5.running_var\", \"monomer_model.auxiliary_layers.auxiliary_0.weight\", \"monomer_model.auxiliary_layers.auxiliary_0.bias\", \"monomer_model.auxiliary_layers.auxiliary_1.weight\", \"monomer_model.auxiliary_layers.auxiliary_1.bias\", \"monomer_model.auxiliary_layers.auxiliary_2.weight\", \"monomer_model.auxiliary_layers.auxiliary_2.bias\", \"monomer_model.auxiliary_layers.auxiliary_3.weight\", \"monomer_model.auxiliary_layers.auxiliary_3.bias\", \"monomer_model.auxiliary_layers.auxiliary_4.weight\", \"monomer_model.auxiliary_layers.auxiliary_4.bias\", \"monomer_model.auxiliary_layers.auxiliary_5.weight\", \"monomer_model.auxiliary_layers.auxiliary_5.bias\", \"monomer_model.auxiliary_out_layers.auxiliary_out_0.weight\", \"monomer_model.auxiliary_out_layers.auxiliary_out_0.bias\", \"monomer_model.auxiliary_out_layers.auxiliary_out_1.weight\", \"monomer_model.auxiliary_out_layers.auxiliary_out_1.bias\", \"monomer_model.auxiliary_out_layers.auxiliary_out_2.weight\", \"monomer_model.auxiliary_out_layers.auxiliary_out_2.bias\", \"monomer_model.auxiliary_out_layers.auxiliary_out_3.weight\", \"monomer_model.auxiliary_out_layers.auxiliary_out_3.bias\", \"monomer_model.auxiliary_out_layers.auxiliary_out_4.weight\", \"monomer_model.auxiliary_out_layers.auxiliary_out_4.bias\", \"monomer_model.auxiliary_out_layers.auxiliary_out_5.weight\", \"monomer_model.auxiliary_out_layers.auxiliary_out_5.bias\", \"monomer_model.linear_layers.convlinear_0.weight\", \"monomer_model.linear_layers.convlinear_0.bias\", \"monomer_model.linear_layers.bn_convlinear_0.weight\", \"monomer_model.linear_layers.bn_convlinear_0.bias\", \"monomer_model.linear_layers.bn_convlinear_0.running_mean\", \"monomer_model.linear_layers.bn_convlinear_0.running_var\", \"monomer_model.linear_layers.out_conv.weight\", \"monomer_model.linear_layers.out_conv.bias\", \"peptide_model.desc_layers.mlp_desc_0.weight\", \"peptide_model.desc_layers.mlp_desc_0.bias\", \"peptide_model.fp_layers.mlp_fp_0.weight\", \"peptide_model.fp_layers.mlp_fp_0.bias\", \"peptide_model.auxiliary_concat_layers.auxiliary_concat_0.weight\", \"peptide_model.auxiliary_concat_layers.auxiliary_concat_0.bias\", \"peptide_model.auxiliary_out_layers.auxiliary_out_0.weight\", \"peptide_model.auxiliary_out_layers.auxiliary_out_0.bias\", \"peptide_model.linear_layers.linear_concat.weight\", \"peptide_model.linear_layers.linear_concat.bias\", \"peptide_model.linear_layers.out_mlp.weight\", \"peptide_model.linear_layers.out_mlp.bias\". \n\tUnexpected key(s) in state_dict: \"atoms_model.embedding_atoms.weight\", \"atoms_model.embedding_atoms.bias\", \"atoms_model.embedding_graph.weight\", \"atoms_model.embedding_graph.bias\", \"atoms_model.embedding_conf.weight\", \"atoms_model.embedding_conf.bias\", \"atoms_model.embedding_bond.weight\", \"atoms_model.embedding_bond.bias\", \"atoms_model.transformer_encoder_graph.encoder_graph_0.self_attn.in_proj_weight\", \"atoms_model.transformer_encoder_graph.encoder_graph_0.self_attn.in_proj_bias\", \"atoms_model.transformer_encoder_graph.encoder_graph_0.self_attn.out_proj.weight\", \"atoms_model.transformer_encoder_graph.encoder_graph_0.self_attn.out_proj.bias\", \"atoms_model.transformer_encoder_graph.encoder_graph_0.linear1.weight\", \"atoms_model.transformer_encoder_graph.encoder_graph_0.linear1.bias\", \"atoms_model.transformer_encoder_graph.encoder_graph_0.linear2.weight\", \"atoms_model.transformer_encoder_graph.encoder_graph_0.linear2.bias\", \"atoms_model.transformer_encoder_graph.encoder_graph_0.norm1.weight\", \"atoms_model.transformer_encoder_graph.encoder_graph_0.norm1.bias\", \"atoms_model.transformer_encoder_graph.encoder_graph_0.norm2.weight\", \"atoms_model.transformer_encoder_graph.encoder_graph_0.norm2.bias\", \"atoms_model.transformer_encoder_graph.encoder_graph_1.self_attn.in_proj_weight\", \"atoms_model.transformer_encoder_graph.encoder_graph_1.self_attn.in_proj_bias\", \"atoms_model.transformer_encoder_graph.encoder_graph_1.self_attn.out_proj.weight\", \"atoms_model.transformer_encoder_graph.encoder_graph_1.self_attn.out_proj.bias\", \"atoms_model.transformer_encoder_graph.encoder_graph_1.linear1.weight\", \"atoms_model.transformer_encoder_graph.encoder_graph_1.linear1.bias\", \"atoms_model.transformer_encoder_graph.encoder_graph_1.linear2.weight\", \"atoms_model.transformer_encoder_graph.encoder_graph_1.linear2.bias\", \"atoms_model.transformer_encoder_graph.encoder_graph_1.norm1.weight\", \"atoms_model.transformer_encoder_graph.encoder_graph_1.norm1.bias\", \"atoms_model.transformer_encoder_graph.encoder_graph_1.norm2.weight\", \"atoms_model.transformer_encoder_graph.encoder_graph_1.norm2.bias\", \"atoms_model.transformer_encoder_conf.encoder_conf_0.self_attn.in_proj_weight\", \"atoms_model.transformer_encoder_conf.encoder_conf_0.self_attn.in_proj_bias\", \"atoms_model.transformer_encoder_conf.encoder_conf_0.self_attn.out_proj.weight\", \"atoms_model.transformer_encoder_conf.encoder_conf_0.self_attn.out_proj.bias\", \"atoms_model.transformer_encoder_conf.encoder_conf_0.linear1.weight\", \"atoms_model.transformer_encoder_conf.encoder_conf_0.linear1.bias\", \"atoms_model.transformer_encoder_conf.encoder_conf_0.linear2.weight\", \"atoms_model.transformer_encoder_conf.encoder_conf_0.linear2.bias\", \"atoms_model.transformer_encoder_conf.encoder_conf_0.norm1.weight\", \"atoms_model.transformer_encoder_conf.encoder_conf_0.norm1.bias\", \"atoms_model.transformer_encoder_conf.encoder_conf_0.norm2.weight\", \"atoms_model.transformer_encoder_conf.encoder_conf_0.norm2.bias\", \"atoms_model.transformer_encoder_conf.encoder_conf_1.self_attn.in_proj_weight\", \"atoms_model.transformer_encoder_conf.encoder_conf_1.self_attn.in_proj_bias\", \"atoms_model.transformer_encoder_conf.encoder_conf_1.self_attn.out_proj.weight\", \"atoms_model.transformer_encoder_conf.encoder_conf_1.self_attn.out_proj.bias\", \"atoms_model.transformer_encoder_conf.encoder_conf_1.linear1.weight\", \"atoms_model.transformer_encoder_conf.encoder_conf_1.linear1.bias\", \"atoms_model.transformer_encoder_conf.encoder_conf_1.linear2.weight\", \"atoms_model.transformer_encoder_conf.encoder_conf_1.linear2.bias\", \"atoms_model.transformer_encoder_conf.encoder_conf_1.norm1.weight\", \"atoms_model.transformer_encoder_conf.encoder_conf_1.norm1.bias\", \"atoms_model.transformer_encoder_conf.encoder_conf_1.norm2.weight\", \"atoms_model.transformer_encoder_conf.encoder_conf_1.norm2.bias\", \"atoms_model.auxiliary_concat_layers.auxiliary_concat_0.weight\", \"atoms_model.auxiliary_concat_layers.auxiliary_concat_0.bias\", \"atoms_model.auxiliary_concat_layers.auxiliary_concat_1.weight\", \"atoms_model.auxiliary_concat_layers.auxiliary_concat_1.bias\", \"atoms_model.auxiliary_out_layers.auxiliary_out_0.weight\", \"atoms_model.auxiliary_out_layers.auxiliary_out_0.bias\", \"atoms_model.auxiliary_out_layers.auxiliary_out_1.weight\", \"atoms_model.auxiliary_out_layers.auxiliary_out_1.bias\", \"atoms_model.linear_layers.linear_concat.weight\", \"atoms_model.linear_layers.linear_concat.bias\", \"atoms_model.linear_layers.linear_0.weight\", \"atoms_model.linear_layers.linear_0.bias\", \"atoms_model.linear_layers.linear_out.weight\", \"atoms_model.linear_layers.linear_out.bias\", \"monomers_model.conv_layers.conv1d_0.weight\", \"monomers_model.conv_layers.conv1d_0.bias\", \"monomers_model.conv_layers.bn_conv_0.weight\", \"monomers_model.conv_layers.bn_conv_0.bias\", \"monomers_model.conv_layers.bn_conv_0.running_mean\", \"monomers_model.conv_layers.bn_conv_0.running_var\", \"monomers_model.conv_layers.bn_conv_0.num_batches_tracked\", \"monomers_model.conv_layers.conv1d_1.weight\", \"monomers_model.conv_layers.conv1d_1.bias\", \"monomers_model.conv_layers.bn_conv_1.weight\", \"monomers_model.conv_layers.bn_conv_1.bias\", \"monomers_model.conv_layers.bn_conv_1.running_mean\", \"monomers_model.conv_layers.bn_conv_1.running_var\", \"monomers_model.conv_layers.bn_conv_1.num_batches_tracked\", \"monomers_model.conv_layers.conv1d_2.weight\", \"monomers_model.conv_layers.conv1d_2.bias\", \"monomers_model.conv_layers.bn_conv_2.weight\", \"monomers_model.conv_layers.bn_conv_2.bias\", \"monomers_model.conv_layers.bn_conv_2.running_mean\", \"monomers_model.conv_layers.bn_conv_2.running_var\", \"monomers_model.conv_layers.bn_conv_2.num_batches_tracked\", \"monomers_model.conv_layers.conv1d_3.weight\", \"monomers_model.conv_layers.conv1d_3.bias\", \"monomers_model.conv_layers.bn_conv_3.weight\", \"monomers_model.conv_layers.bn_conv_3.bias\", \"monomers_model.conv_layers.bn_conv_3.running_mean\", \"monomers_model.conv_layers.bn_conv_3.running_var\", \"monomers_model.conv_layers.bn_conv_3.num_batches_tracked\", \"monomers_model.conv_layers.conv1d_4.weight\", \"monomers_model.conv_layers.conv1d_4.bias\", \"monomers_model.conv_layers.bn_conv_4.weight\", \"monomers_model.conv_layers.bn_conv_4.bias\", \"monomers_model.conv_layers.bn_conv_4.running_mean\", \"monomers_model.conv_layers.bn_conv_4.running_var\", \"monomers_model.conv_layers.bn_conv_4.num_batches_tracked\", \"monomers_model.conv_layers.conv1d_5.weight\", \"monomers_model.conv_layers.conv1d_5.bias\", \"monomers_model.conv_layers.bn_conv_5.weight\", \"monomers_model.conv_layers.bn_conv_5.bias\", \"monomers_model.conv_layers.bn_conv_5.running_mean\", \"monomers_model.conv_layers.bn_conv_5.running_var\", \"monomers_model.conv_layers.bn_conv_5.num_batches_tracked\", \"monomers_model.auxiliary_layers.auxiliary_0.weight\", \"monomers_model.auxiliary_layers.auxiliary_0.bias\", \"monomers_model.auxiliary_layers.auxiliary_1.weight\", \"monomers_model.auxiliary_layers.auxiliary_1.bias\", \"monomers_model.auxiliary_layers.auxiliary_2.weight\", \"monomers_model.auxiliary_layers.auxiliary_2.bias\", \"monomers_model.auxiliary_layers.auxiliary_3.weight\", \"monomers_model.auxiliary_layers.auxiliary_3.bias\", \"monomers_model.auxiliary_layers.auxiliary_4.weight\", \"monomers_model.auxiliary_layers.auxiliary_4.bias\", \"monomers_model.auxiliary_layers.auxiliary_5.weight\", \"monomers_model.auxiliary_layers.auxiliary_5.bias\", \"monomers_model.auxiliary_out_layers.auxiliary_out_0.weight\", \"monomers_model.auxiliary_out_layers.auxiliary_out_0.bias\", \"monomers_model.auxiliary_out_layers.auxiliary_out_1.weight\", \"monomers_model.auxiliary_out_layers.auxiliary_out_1.bias\", \"monomers_model.auxiliary_out_layers.auxiliary_out_2.weight\", \"monomers_model.auxiliary_out_layers.auxiliary_out_2.bias\", \"monomers_model.auxiliary_out_layers.auxiliary_out_3.weight\", \"monomers_model.auxiliary_out_layers.auxiliary_out_3.bias\", \"monomers_model.auxiliary_out_layers.auxiliary_out_4.weight\", \"monomers_model.auxiliary_out_layers.auxiliary_out_4.bias\", \"monomers_model.auxiliary_out_layers.auxiliary_out_5.weight\", \"monomers_model.auxiliary_out_layers.auxiliary_out_5.bias\", \"monomers_model.linear_layers.convlinear_0.weight\", \"monomers_model.linear_layers.convlinear_0.bias\", \"monomers_model.linear_layers.bn_convlinear_0.weight\", \"monomers_model.linear_layers.bn_convlinear_0.bias\", \"monomers_model.linear_layers.bn_convlinear_0.running_mean\", \"monomers_model.linear_layers.bn_convlinear_0.running_var\", \"monomers_model.linear_layers.bn_convlinear_0.num_batches_tracked\", \"monomers_model.linear_layers.out_conv.weight\", \"monomers_model.linear_layers.out_conv.bias\", \"peptides_model.desc_layers.mlp_desc_0.weight\", \"peptides_model.desc_layers.mlp_desc_0.bias\", \"peptides_model.fp_layers.mlp_fp_0.weight\", \"peptides_model.fp_layers.mlp_fp_0.bias\", \"peptides_model.auxiliary_concat_layers.auxiliary_concat_0.weight\", \"peptides_model.auxiliary_concat_layers.auxiliary_concat_0.bias\", \"peptides_model.auxiliary_out_layers.auxiliary_out_0.weight\", \"peptides_model.auxiliary_out_layers.auxiliary_out_0.bias\", \"peptides_model.linear_layers.linear_concat.weight\", \"peptides_model.linear_layers.linear_concat.bias\", \"peptides_model.linear_layers.out_mlp.weight\", \"peptides_model.linear_layers.out_mlp.bias\". "
     ]
    }
   ],
   "source": [
    "for cv in range(3):\n",
    "    # Load trained weights\n",
    "    model_path = f'weight/{MODEL_TYPE}/{MODEL_TYPE}-{REPLICA_NUM}_cv{cv}.cpt'\n",
    "    checkpoint = torch.load(model_path)\n",
    "    model = model_utils.create_model(best_trial, DEVICE, config['model']['use_auxiliary'])\n",
    "    model_state = checkpoint['model_state_dict']\n",
    "    model.load_state_dict(model_state)\n",
    "    model = nn.DataParallel(model)\n",
    "    model.to(DEVICE)\n",
    "\n",
    "    dataloader_now = torch.utils.data.DataLoader(dataset_new, batch_size=256, shuffle=False)\n",
    "    ids, exps, preds = model_utils.predict_valid(DEVICE, model, dataloader_now, None, istrain=False,\n",
    "                                                 use_auxiliary=config['model']['use_auxiliary'], gamma_layer=config['model']['gamma_layer'], gamma_subout=config['model']['gamma_subout'])\n",
    "    now_pred = pd.DataFrame(preds, columns=['pred'])\n",
    "    now_pred['exp'] = exps\n",
    "    now_pred['ID'] = ids\n",
    "\n",
    "    # NOTE: Can save all predicted values of all replicas\n",
    "    # now_pred.to_csv(f'predicted/{MODEL_TYPE}-{REPLICA_NUM}/{set_name}_cv{cv}_allrep.csv')\n",
    "\n",
    "    # Take the average of all replicas\n",
    "    now_pred = now_pred.groupby('ID').mean()\n",
    "    now_pred.to_csv(f'predicted/new_data/{MODEL_TYPE}-{REPLICA_NUM}/{set_name}_cv{cv}.csv')"
   ]
  },
  {
   "cell_type": "code",
   "execution_count": null,
   "metadata": {},
   "outputs": [],
   "source": []
  },
  {
   "cell_type": "code",
   "execution_count": null,
   "metadata": {},
   "outputs": [],
   "source": []
  },
  {
   "cell_type": "code",
   "execution_count": null,
   "metadata": {},
   "outputs": [],
   "source": []
  },
  {
   "cell_type": "code",
   "execution_count": null,
   "metadata": {},
   "outputs": [],
   "source": [
    "df_peptide = pd.read_csv(data_args['org_peptide_path'], low_memory=False)\n",
    "df_monomer = pd.read_csv(data_args['org_monomer_path'], low_memory=False)\n",
    "\n",
    "smiles = df_peptide['SMILES'].tolist()\n",
    "shape = df_peptide['Molecule_Shape'].to_list()\n",
    "helm = df_peptide['HELM'].to_list()\n",
    "symbol_to_smiles = dict(zip(df_monomer['Symbol'], df_monomer['capped_SMILES']))\n",
    "symbol_to_cxsmiles = dict(zip(df_monomer['Symbol'], df_monomer['CXSMILES']))\n",
    "R3_dict = dict(zip(df_monomer['Symbol'], df_monomer['R3']))\n",
    "smiles_to_symbol = dict(zip(df_monomer['capped_SMILES'], df_monomer['Symbol']))"
   ]
  },
  {
   "cell_type": "code",
   "execution_count": null,
   "metadata": {},
   "outputs": [],
   "source": [
    "substructure_list, substructure_num = [], []\n",
    "\n",
    "for i in range(len(df_peptide)):\n",
    "\n",
    "    now_substructure = []\n",
    "    now_seq = helm[i].split('$')[0].split('{')[1].replace('}', '').replace('[', '').replace(']', '').split('.')\n",
    "\n",
    "    if shape[i] == 'Circle':\n",
    "        now_substructure = [symbol_to_smiles[_] for _ in now_seq]\n",
    "    elif shape[i] == 'Lariat':\n",
    "        # Lariat peptides, do not divide bonds of side chain\n",
    "        atts = helm[i].split('$')[1].split(',')[2].split('-')\n",
    "        atts_num = [int(_.split(':')[0]) for _ in atts]\n",
    "        atts_R = [_.split(':')[1] for _ in atts]\n",
    "\n",
    "        # HELM example of this case: PEPTIDE48{A.A.L.[meV].L.F.F.P.I.T.G.D.[-pip]}$PEPTIDE48,PEPTIDE48,1:R1-12:R3$$$\n",
    "        if atts_num[0] == 1:\n",
    "            # NOTE: This case were all R1-R3\n",
    "            # if atts_R[0] != 'R1':\n",
    "            #     print(f'{i}, 0, {atts_R[0]}')\n",
    "            # elif atts_R[1] != 'R3':\n",
    "            #     print(f'{i}, 1, {atts_R[1]}')\n",
    "\n",
    "            now_substructure = [symbol_to_smiles[_] for _ in now_seq[:atts_num[1]-1]]\n",
    "            # monomers to combine\n",
    "            cxsmiles = [symbol_to_cxsmiles[_] for _ in now_seq[atts_num[1]-1:]]\n",
    "            # NOTE: 第一个cap两处(R1, R3), side chain不cap\n",
    "            tmp = cxsmiles[0].split(' |')[0]\n",
    "            for _ in re.findall('_R\\d', cxsmiles[0]):\n",
    "                if _ == '_R1':\n",
    "                    tmp = tmp.replace('[*]', '[CH3]', 1)\n",
    "                elif _ == '_R2':\n",
    "                    tmp = tmp.replace('[*]', '[2C]', 1)\n",
    "                elif _ == '_R3':\n",
    "                    if R3_dict[now_seq[atts_num[1]-1]] == 'H':\n",
    "                        tmp = tmp.replace('[*]', '[CH3]', 1)\n",
    "                    elif R3_dict[now_seq[atts_num[1]-1]] == 'OH':\n",
    "                        tmp = tmp.replace('[*]', '[H]', 1)\n",
    "            cxsmiles[0] = tmp\n",
    "\n",
    "            combined = utils_function.combine_cxsmiles(cxsmiles, now_seq[atts_num[1]-1:], R3_dict)\n",
    "            now_substructure.append(combined)\n",
    "\n",
    "        # HELM example of this case: PEPTIDE959{[Mono22-].G.T.[Mono23].[Mono24].[dLeu(3R-OH)].[dSer(Me)].G.A.[meT].[dTyr(bR-OMe)].[Mono25]}$PEPTIDE959,PEPTIDE959,6:R3-12:R2$$$\n",
    "        else:\n",
    "            # NOTE: This case were all R3-R2\n",
    "            # if atts_R[0] != 'R3':\n",
    "            #     print(f'{i}, 0, {atts_R[0]}')\n",
    "            # elif atts_R[1] != 'R2':\n",
    "            #     print(f'{i}, 1, {atts_R[1]}')\n",
    "            cxsmiles = [symbol_to_cxsmiles[_] for _ in now_seq[:atts_num[0]]]\n",
    "            # NOTE: 最后一个cap两处(R2, R3), side chain不cap\n",
    "            tmp = cxsmiles[-1].split(' |')[0]\n",
    "            for _ in re.findall('_R\\d', cxsmiles[-1]):\n",
    "                if _ == '_R1':\n",
    "                    tmp = tmp.replace('[*]', '[1C]', 1)\n",
    "                elif _ == '_R2':\n",
    "                    tmp = tmp.replace('[*]', '[H]', 1)\n",
    "                elif _ == '_R3':\n",
    "                    if R3_dict[now_seq[atts_num[0]-1]] == 'H':\n",
    "                        tmp = tmp.replace('[*]', '[CH3]', 1)\n",
    "                    elif R3_dict[now_seq[atts_num[0]-1]] == 'OH':\n",
    "                        tmp = tmp.replace('[*]', '[H]', 1)\n",
    "            cxsmiles[-1] = tmp\n",
    "\n",
    "            combined = utils_function.combine_cxsmiles(cxsmiles, now_seq[:atts_num[0]], R3_dict)\n",
    "            now_substructure.append(combined)\n",
    "            now_substructure += [symbol_to_smiles[_] for _ in now_seq[atts_num[0]:]]\n",
    "\n",
    "    substructure_num.append(len(now_substructure))\n",
    "    if len(now_substructure) < data_args['monomer_max_len']:\n",
    "        now_substructure += [''] * (data_args['monomer_max_len'] - len(now_substructure))\n",
    "    substructure_list.append(now_substructure)\n",
    "\n",
    "# check\n",
    "df_peptide['Monomer_Length_in_Main_Chain'].to_list() == substructure_num"
   ]
  },
  {
   "cell_type": "code",
   "execution_count": null,
   "metadata": {},
   "outputs": [],
   "source": [
    "# Save substructure table\n",
    "if not os.path.exists(data_args['substructures_table_path']):\n",
    "    pd.concat([df_peptide[['CycPeptMPDB_ID', 'Source', 'Year', 'Original_Name_in_Source_Literature', \\\n",
    "                           'Structurally_Unique_ID', 'Same_Peptides_ID', 'SMILES', 'HELM', \\\n",
    "                           'Monomer_Length', 'Monomer_Length_in_Main_Chain', 'Molecule_Shape', 'Permeability', \\\n",
    "                           'PAMPA', 'Caco2', 'MDCK', 'RRCK']],\n",
    "               pd.DataFrame(substructure_list, columns=[f'Substructure-{i}' for i in range(1, data_args['monomer_max_len']+1)])], axis=1).to_csv(data_args['substructures_table_path'], index=False)"
   ]
  }
 ],
 "metadata": {
  "kernelspec": {
   "display_name": "Python 3",
   "language": "python",
   "name": "python3"
  },
  "language_info": {
   "codemirror_mode": {
    "name": "ipython",
    "version": 3
   },
   "file_extension": ".py",
   "mimetype": "text/x-python",
   "name": "python",
   "nbconvert_exporter": "python",
   "pygments_lexer": "ipython3",
   "version": "3.9.6"
  }
 },
 "nbformat": 4,
 "nbformat_minor": 2
}
